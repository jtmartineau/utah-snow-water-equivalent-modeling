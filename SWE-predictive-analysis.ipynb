{
 "cells": [
  {
   "cell_type": "markdown",
   "id": "b94a0c60-29da-423e-80d1-3c3d074fa6ac",
   "metadata": {},
   "source": [
    "## Utah Snow-Water-Equivalent Modeling"
   ]
  },
  {
   "cell_type": "markdown",
   "id": "2ed7c9f1-7e21-4934-9074-f6e7e60122d0",
   "metadata": {},
   "source": [
    "### This notebook contains a predictive analysis of the US. state of Utah's snow water equivalent (SWE) measurements. The SWE is how much melt water is predicted to be derived from a given amount of snow. This depends on the density and other physical quantities of the snow and its layers."
   ]
  },
  {
   "cell_type": "code",
   "execution_count": null,
   "id": "9774673e-bfc4-4a14-aff1-79a7aee07010",
   "metadata": {},
   "outputs": [],
   "source": []
  }
 ],
 "metadata": {
  "kernelspec": {
   "display_name": "Python 3 (ipykernel)",
   "language": "python",
   "name": "python3"
  },
  "language_info": {
   "codemirror_mode": {
    "name": "ipython",
    "version": 3
   },
   "file_extension": ".py",
   "mimetype": "text/x-python",
   "name": "python",
   "nbconvert_exporter": "python",
   "pygments_lexer": "ipython3",
   "version": "3.9.12"
  }
 },
 "nbformat": 4,
 "nbformat_minor": 5
}
