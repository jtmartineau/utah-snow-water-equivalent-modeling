{
 "cells": [
  {
   "cell_type": "markdown",
   "id": "b94a0c60-29da-423e-80d1-3c3d074fa6ac",
   "metadata": {},
   "source": [
    "## Utah Snow-Water-Equivalent Modeling"
   ]
  },
  {
   "cell_type": "markdown",
   "id": "f600f49c-69eb-4b16-8a83-95e82be6bdbd",
   "metadata": {},
   "source": [
    "#### Copyright Jason Martineau, 2023"
   ]
  },
  {
   "cell_type": "markdown",
   "id": "2ed7c9f1-7e21-4934-9074-f6e7e60122d0",
   "metadata": {},
   "source": [
    "### This notebook contains a predictive analysis of the US. state of Utah's snow water equivalent (SWE) measurements. The SWE is how much melt water is predicted to be derived from a given amount of snow. This depends on the density and other physical quantities of the snow and its layers."
   ]
  },
  {
   "cell_type": "markdown",
   "id": "cdb8cc50-07c0-46a8-94cb-d20834bd7eea",
   "metadata": {},
   "source": [
    "#### The data souces for this notebook may be downloaded from the following link:\n",
    "\n",
    "https://www.nrcs.usda.gov/wps/portal/wcc/home/quicklinks/states/utah/snow/basinData/"
   ]
  },
  {
   "cell_type": "code",
   "execution_count": null,
   "id": "8ac7adec-1588-4196-8fe0-89dadc51c907",
   "metadata": {},
   "outputs": [],
   "source": [
    "import pandas as pd\n",
    "\n",
    "# set max display columns and rows to a large number to facilitate initial exploration of data.\n",
    "pd.options.display.max_rows = 100;\n",
    "pd.options.display.max_columns = 100;"
   ]
  }
 ],
 "metadata": {
  "kernelspec": {
   "display_name": "Python 3 (ipykernel)",
   "language": "python",
   "name": "python3"
  },
  "language_info": {
   "codemirror_mode": {
    "name": "ipython",
    "version": 3
   },
   "file_extension": ".py",
   "mimetype": "text/x-python",
   "name": "python",
   "nbconvert_exporter": "python",
   "pygments_lexer": "ipython3",
   "version": "3.9.12"
  }
 },
 "nbformat": 4,
 "nbformat_minor": 5
}
